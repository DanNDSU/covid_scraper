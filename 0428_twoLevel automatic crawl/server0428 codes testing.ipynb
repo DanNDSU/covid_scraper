{
 "cells": [
  {
   "cell_type": "code",
   "execution_count": 20,
   "metadata": {},
   "outputs": [],
   "source": [
    "from bs4 import BeautifulSoup\n",
    "import requests\n",
    "import re\n",
    "import socket \n",
    "from _thread import *\n",
    "import threading "
   ]
  },
  {
   "cell_type": "code",
   "execution_count": 64,
   "metadata": {},
   "outputs": [],
   "source": [
    "# get url from clients\n",
    "url='https://www.health.nd.gov/diseases-conditions/coronavirus/north-dakota-coronavirus-cases'\n",
    "page = requests.get(url)\n",
    "soup = BeautifulSoup(page.text, 'html.parser')\n",
    "# prints any titles from the first page hit.\n",
    "title = soup.find_all('title')\n",
    "texts = soup.find_all('p')\n",
    "links = soup.find_all('a', attrs={'href': re.compile(\"^http\")})"
   ]
  },
  {
   "cell_type": "code",
   "execution_count": 70,
   "metadata": {
    "scrolled": true
   },
   "outputs": [],
   "source": [
    "tf_results=[]\n",
    "url_list = []\n",
    "target=[]\n",
    "keyword1='covid-19'\n",
    "keyword2='coronavirus'\n",
    "\n",
    "for link in links:\n",
    "    address = link.get('href')\n",
    "    try: \n",
    "        #print(address)\n",
    "        page2 = requests.get(address)\n",
    "        soup2 = BeautifulSoup(page2.text, 'html.parser')\n",
    "        title2 = soup2.find_all('title')\n",
    "        texts2 = soup2.find_all('p')\n",
    "        links2 = soup2.find_all('a', attrs={'href': re.compile(\"^http\")}) \n",
    "        for idx in range(len(texts2)):\n",
    "            L = texts2[idx].get_text()\n",
    "            tf_value = (keyword1.lower() in L.lower()) or (keyword2.lower() in L.lower())\n",
    "            tf_results.append(tf_value)\n",
    "            if tf_value == True:\n",
    "                target.append(L)\n",
    "            else:\n",
    "                pass\n",
    "        \n",
    "        # automatically crawl the next level\n",
    "        tf_results3=[]\n",
    "        url_list3 = []\n",
    "        target3=[]\n",
    "        for linkk in links2:\n",
    "            address3 = linkk.get('href')\n",
    "            try:\n",
    "                #print('this is the second level crawling !')\n",
    "                #print(address3)\n",
    "                page3 = requests.get(address3)\n",
    "                soup3 = BeautifulSoup(page3.text, 'html.parser')\n",
    "                title3 = soup3.find_all('title')\n",
    "                texts3 = soup3.find_all('p')\n",
    "                links3 = soup3.find_all('a', attrs={'href': re.compile(\"^http\")}) \n",
    "                for idxx in range(len(texts3)):\n",
    "                    LL = texts3[idxx].get_text()\n",
    "                    tf_value3 = (keyword1.lower() in LL.lower()) or (keyword2.lower() in LL.lower())\n",
    "                    tf_results3.append(tf_value3)\n",
    "                    if tf_value3 == True:\n",
    "                        target3.append(LL)\n",
    "                        #print('Found!')\n",
    "                    else:\n",
    "                        #print('None')\n",
    "                        pass\n",
    "                    \n",
    "            except Exception as ie:\n",
    "                pass\n",
    "            \n",
    "            #if any(True == ss for ss in tf_results3):\n",
    "                #url_list3.append([address3, target3[0:10]])\n",
    "                #print(url_list3)\n",
    "                   \n",
    "    except Exception as ie:\n",
    "        pass\n",
    "    \n",
    "    if any(True == ss for ss in tf_results3):\n",
    "        url_list3.append([address3, target3[:10]])\n",
    "        #print(url_list3)\n",
    "        \n",
    "    if any(True == s for s in tf_results):\n",
    "        url_list.append([address, target, url_list3])   "
   ]
  },
  {
   "cell_type": "code",
   "execution_count": 71,
   "metadata": {},
   "outputs": [
    {
     "data": {
      "text/plain": [
       "18"
      ]
     },
     "execution_count": 71,
     "metadata": {},
     "output_type": "execute_result"
    }
   ],
   "source": [
    "len(url_list)"
   ]
  },
  {
   "cell_type": "code",
   "execution_count": 72,
   "metadata": {
    "scrolled": false
   },
   "outputs": [
    {
     "data": {
      "text/plain": [
       "[['https://www.ndtourism.com/',\n",
       "  [\"Get Involved: Learn how to help with North Dakota's COVID-19 response\",\n",
       "   'Thank you for your commitment to helping your fellow North Dakotans during the COVID-19 pandemic. Be assured that Team ND is working as one to slow the spread of this virus. We are taking steps to help North Dakotans through this crisis, and the health of our family, community members, co-workers and health care practitioners is our top priority.',\n",
       "   'Aside from social distancing, the best way to help\\u202fyour community\\xa0during the COVID-19 pandemic is by\\xa0supporting community\\xa0response\\xa0and relief efforts with a donation.\\xa0We\\xa0know\\xa0#TeamND\\xa0is\\xa0eager to help, so we have included options on this page that specifically address\\xa0to assist during this crisis with monetary contributions or the donation of medical supplies\\xa0to support North Dakotans.\\xa0',\n",
       "   'Thank you for your generosity in contributing to\\xa0North Dakota’s\\xa0COVID-19 emergency response and economic relief efforts.\\xa0',\n",
       "   'Are you a Medical Laboratory Scientist (MLS), Medical Technologist (MT), Clinical Laboratory Scientist (CLS), or Medical Laboratory Technician (MLT)? We need you to join the hardworking and dedicated staff at\\xa0the State Microbiology Lab in response to COVID-19. Register with the WCC by clicking on the sign up button below and completing the online form. You will be contacted quickly to find out how you can join the fight.',\n",
       "   'You can help us\\xa0make a difference\\xa0during the COVID-19 pandemic.\\xa0The Workforce Coordination Center\\xa0is managing\\xa0a pool of potential workers and volunteers to help as\\xa0North Dakota business and emergency workforce needs change. Current or lapsed license or certifications are a bonus, but not necessary.\\xa0',\n",
       "   'North Dakota businesses that have new and challenging workforce gaps that are related to COVID-19\\xa0can sign up with WCC for assistance in filling critical positions.',\n",
       "   'Sign up for COVID-19 workforce help',\n",
       "   'Monetary donations can be made through the North Dakota COVID-19 Community and Nonprofit Response Fund.',\n",
       "   \"Because the COVID-19 virus will likely impact every corner of the state, individuals and businesses that wish to provide assistance to nonprofit organizations or others are encouraged to\\u202fdonate directly to their own local entities - e.g. senior citizens center, soup kitchen, school system, hospital, etc.\\u202f If these entities aren't able to accept donations, if the donor wishes to make a larger impact statewide, or if the donor prefers a tax receipt for his/her gift, donations may be made to North Dakota Community Foundation's (NDCF)\\u202fCOVID-19 Community and Nonprofit Response Fund.\"]]]"
      ]
     },
     "execution_count": 72,
     "metadata": {},
     "output_type": "execute_result"
    }
   ],
   "source": [
    "url_list[0][2]"
   ]
  },
  {
   "cell_type": "code",
   "execution_count": 73,
   "metadata": {
    "scrolled": false
   },
   "outputs": [
    {
     "name": "stdout",
     "output_type": "stream",
     "text": [
      "[['https://www.ndtourism.com/', [\"Get Involved: Learn how to help with North Dakota's COVID-19 response\", 'Thank you for your commitment to helping your fellow North Dakotans during the COVID-19 pandemic. Be assured that Team ND is working as one to slow the spread of this virus. We are taking steps to help North Dakotans through this crisis, and the health of our family, community members, co-workers and health care practitioners is our top priority.', 'Aside from social distancing, the best way to help\\u202fyour community\\xa0during the COVID-19 pandemic is by\\xa0supporting community\\xa0response\\xa0and relief efforts with a donation.\\xa0We\\xa0know\\xa0#TeamND\\xa0is\\xa0eager to help, so we have included options on this page that specifically address\\xa0to assist during this crisis with monetary contributions or the donation of medical supplies\\xa0to support North Dakotans.\\xa0', 'Thank you for your generosity in contributing to\\xa0North Dakota’s\\xa0COVID-19 emergency response and economic relief efforts.\\xa0', 'Are you a Medical Laboratory Scientist (MLS), Medical Technologist (MT), Clinical Laboratory Scientist (CLS), or Medical Laboratory Technician (MLT)? We need you to join the hardworking and dedicated staff at\\xa0the State Microbiology Lab in response to COVID-19. Register with the WCC by clicking on the sign up button below and completing the online form. You will be contacted quickly to find out how you can join the fight.', 'You can help us\\xa0make a difference\\xa0during the COVID-19 pandemic.\\xa0The Workforce Coordination Center\\xa0is managing\\xa0a pool of potential workers and volunteers to help as\\xa0North Dakota business and emergency workforce needs change. Current or lapsed license or certifications are a bonus, but not necessary.\\xa0', 'North Dakota businesses that have new and challenging workforce gaps that are related to COVID-19\\xa0can sign up with WCC for assistance in filling critical positions.', 'Sign up for COVID-19 workforce help', 'Monetary donations can be made through the North Dakota COVID-19 Community and Nonprofit Response Fund.', \"Because the COVID-19 virus will likely impact every corner of the state, individuals and businesses that wish to provide assistance to nonprofit organizations or others are encouraged to\\u202fdonate directly to their own local entities - e.g. senior citizens center, soup kitchen, school system, hospital, etc.\\u202f If these entities aren't able to accept donations, if the donor wishes to make a larger impact statewide, or if the donor prefers a tax receipt for his/her gift, donations may be made to North Dakota Community Foundation's (NDCF)\\u202fCOVID-19 Community and Nonprofit Response Fund.\"]]]\n",
      "[['https://www.youtube.com/legendarynd', [\"Get Involved: Learn how to help with North Dakota's COVID-19 response\", 'Thank you for your commitment to helping your fellow North Dakotans during the COVID-19 pandemic. Be assured that Team ND is working as one to slow the spread of this virus. We are taking steps to help North Dakotans through this crisis, and the health of our family, community members, co-workers and health care practitioners is our top priority.']]]\n",
      "[['https://www.youtube.com/channel/UC0KCh7fxTBftoWOg3kwG5RA', [\"Get Involved: Learn how to help with North Dakota's COVID-19 response\", 'Thank you for your commitment to helping your fellow North Dakotans during the COVID-19 pandemic. Be assured that Team ND is working as one to slow the spread of this virus. We are taking steps to help North Dakotans through this crisis, and the health of our family, community members, co-workers and health care practitioners is our top priority.', 'Get the latest information on COVID-19', 'The NDDoH\\xa0is closely monitoring developments around an outbreak caused by a novel (new) coronavirus first identified in Wuhan, Hubei Province, China.\\xa0The\\xa0first case in the United States\\xa0was announced on January 21, 2020.', 'The NDDoH & private labs are reporting 1,289 total completed tests today for COVID-19, with 49 new positive cases, bringing the statewide total to 991.\\n\\nState & private labs have conducted 23,723 total tests with 22,732 negative results.\\n\\n409 ND patients are considered recovered.pic.twitter.com/QrBU7x3vZd', 'Join our team and make a difference in your state and community by using your skills and expertise during this COVID-19 pandemic!\\n\\nThe North Dakota Workforce Coordination Center is working to immediately fill multiple positions.\\n\\nApply online now: http://health.nd.gov/covidjobs\\xa0pic.twitter.com/dpSTF1ULU9', 'DID YOU KNOW? According to a survey conducted by NPR, North Dakota leads the nation in contact tracing capacity per capita, and is rated as the only state with adequate contact tracing capacity for the COVID-19 pandemic!\\n\\nRead more:https://www.npr.org/sections/health-shots/2020/04/28/846736937/we-asked-all-50-states-about-their-contact-tracing-capacity-heres-what-we-learne\\xa0…', 'If you watched #TheLastDance this week, you know Williston native and NBA Hall of Famer Phil Jackson won championships by perfecting the spacing in his offense. Well, YOU can win big by perfecting your spacing on defense against COVID-19! #InThisTogetherNDpic.twitter.com/40DhqmhC6m', 'The NDDoH & private labs are reporting 1,987 completed tests today for COVID-19 with 75 new positive cases, bringing the statewide total to 942. NDDoH reports 2 new deaths.\\n\\nState & private labs have reported 22,434 total tests & 21,492 negatives.\\n\\n350 ND patients are recovered.pic.twitter.com/8KcIKhCHum', 'To help protect yourself from COVID-19 when refilling prescriptions, the CDC recommends that you call-in prescriptions ahead of time and use drive-thru windows. You might also use curbside services, mail-order or delivery services.\\n\\nFind more info here: https://www.cdc.gov/coronavirus/2019-ncov/daily-life-coping/essential-goods-services.html#doctor\\xa0…pic.twitter.com/nI3to2UPVj']]]\n",
      "[]\n",
      "[['http://support.twitter.com/articles/14226-how-to-find-your-twitter-short-code-or-long-code', ['Get the latest information on COVID-19', 'The NDDoH\\xa0is closely monitoring developments around an outbreak caused by a novel (new) coronavirus first identified in Wuhan, Hubei Province, China.\\xa0The\\xa0first case in the United States\\xa0was announced on January 21, 2020.', 'The NDDoH & private labs are reporting 1,289 total completed tests today for COVID-19, with 49 new positive cases, bringing the statewide total to 991.\\n\\nState & private labs have conducted 23,723 total tests with 22,732 negative results.\\n\\n409 ND patients are considered recovered.pic.twitter.com/QrBU7x3vZd', 'Join our team and make a difference in your state and community by using your skills and expertise during this COVID-19 pandemic!\\n\\nThe North Dakota Workforce Coordination Center is working to immediately fill multiple positions.\\n\\nApply online now: http://health.nd.gov/covidjobs\\xa0pic.twitter.com/dpSTF1ULU9', '\\n                Malachi Stewart, with the Washington, D.C., health department, works full time as a contact tracer for the COVID-19 response. Washington plans to increase its contact tracing workforce in the near future.\\n                \\n                \\n                    \\n                    Ryan Kellman/NPR\\n                    \\n                \\nhide caption\\n', 'States are eager to open up and get people back to work, but how do they do that without risking new coronavirus flare-ups? Public health leaders widely agree that communities need to ramp up capacity to test, trace and isolate. The idea behind this public health mantra is simple: Keep the virus in check by having teams of public health workers — epidemiologists, nurses, trained citizens — identify new positive cases, track down their contacts and help both the sick person and those who were exposed isolate themselves.', \"The average rate of contact tracers among the states we had data from was 12 per 100,000 people — just shy of the estimated need during normal times and a third of what's projected to be needed during the coronavirus pandemic. The median was even fewer: about eight contact tracers per 100,000.\", 'A few states, including Minnesota, indicated they do not have current plans to hire more contact tracers. Andrea Ahneman, a spokesperson for the COVID-19 Response in Minnesota, wrote that the state had more than 100 staffers now and that \"this is plenty of capacity for current needs.\"', 'If you watched #TheLastDance this week, you know Williston native and NBA Hall of Famer Phil Jackson won championships by perfecting the spacing in his offense. Well, YOU can win big by perfecting your spacing on defense against COVID-19! #InThisTogetherNDpic.twitter.com/40DhqmhC6m', 'The NDDoH & private labs are reporting 1,987 completed tests today for COVID-19 with 75 new positive cases, bringing the statewide total to 942. NDDoH reports 2 new deaths.\\n\\nState & private labs have reported 22,434 total tests & 21,492 negatives.\\n\\n350 ND patients are recovered.pic.twitter.com/8KcIKhCHum']]]\n",
      "[]\n",
      "[]\n",
      "[]\n",
      "[['https://www.youtube.com/channel/UC0KCh7fxTBftoWOg3kwG5RA', [\"Get Involved: Learn how to help with North Dakota's COVID-19 response\", 'Thank you for your commitment to helping your fellow North Dakotans during the COVID-19 pandemic. Be assured that Team ND is working as one to slow the spread of this virus. We are taking steps to help North Dakotans through this crisis, and the health of our family, community members, co-workers and health care practitioners is our top priority.', 'Get the latest information on COVID-19', 'The NDDoH\\xa0is closely monitoring developments around an outbreak caused by a novel (new) coronavirus first identified in Wuhan, Hubei Province, China.\\xa0The\\xa0first case in the United States\\xa0was announced on January 21, 2020.', 'The NDDoH & private labs are reporting 1,289 total completed tests today for COVID-19, with 49 new positive cases, bringing the statewide total to 991.\\n\\nState & private labs have conducted 23,723 total tests with 22,732 negative results.\\n\\n409 ND patients are considered recovered.pic.twitter.com/QrBU7x3vZd', 'Join our team and make a difference in your state and community by using your skills and expertise during this COVID-19 pandemic!\\n\\nThe North Dakota Workforce Coordination Center is working to immediately fill multiple positions.\\n\\nApply online now: http://health.nd.gov/covidjobs\\xa0pic.twitter.com/dpSTF1ULU9', 'DID YOU KNOW? According to a survey conducted by NPR, North Dakota leads the nation in contact tracing capacity per capita, and is rated as the only state with adequate contact tracing capacity for the COVID-19 pandemic!\\n\\nRead more:https://www.npr.org/sections/health-shots/2020/04/28/846736937/we-asked-all-50-states-about-their-contact-tracing-capacity-heres-what-we-learne\\xa0…', 'If you watched #TheLastDance this week, you know Williston native and NBA Hall of Famer Phil Jackson won championships by perfecting the spacing in his offense. Well, YOU can win big by perfecting your spacing on defense against COVID-19! #InThisTogetherNDpic.twitter.com/40DhqmhC6m', 'The NDDoH & private labs are reporting 1,987 completed tests today for COVID-19 with 75 new positive cases, bringing the statewide total to 942. NDDoH reports 2 new deaths.\\n\\nState & private labs have reported 22,434 total tests & 21,492 negatives.\\n\\n350 ND patients are recovered.pic.twitter.com/8KcIKhCHum', 'To help protect yourself from COVID-19 when refilling prescriptions, the CDC recommends that you call-in prescriptions ahead of time and use drive-thru windows. You might also use curbside services, mail-order or delivery services.\\n\\nFind more info here: https://www.cdc.gov/coronavirus/2019-ncov/daily-life-coping/essential-goods-services.html#doctor\\xa0…pic.twitter.com/nI3to2UPVj']]]\n",
      "[['https://www.youtube.com/channel/UC0KCh7fxTBftoWOg3kwG5RA', [\"Get Involved: Learn how to help with North Dakota's COVID-19 response\", 'Thank you for your commitment to helping your fellow North Dakotans during the COVID-19 pandemic. Be assured that Team ND is working as one to slow the spread of this virus. We are taking steps to help North Dakotans through this crisis, and the health of our family, community members, co-workers and health care practitioners is our top priority.', 'Get the latest information on COVID-19', 'The NDDoH\\xa0is closely monitoring developments around an outbreak caused by a novel (new) coronavirus first identified in Wuhan, Hubei Province, China.\\xa0The\\xa0first case in the United States\\xa0was announced on January 21, 2020.', 'The NDDoH & private labs are reporting 1,289 total completed tests today for COVID-19, with 49 new positive cases, bringing the statewide total to 991.\\n\\nState & private labs have conducted 23,723 total tests with 22,732 negative results.\\n\\n409 ND patients are considered recovered.pic.twitter.com/QrBU7x3vZd', 'Join our team and make a difference in your state and community by using your skills and expertise during this COVID-19 pandemic!\\n\\nThe North Dakota Workforce Coordination Center is working to immediately fill multiple positions.\\n\\nApply online now: http://health.nd.gov/covidjobs\\xa0pic.twitter.com/dpSTF1ULU9', 'DID YOU KNOW? According to a survey conducted by NPR, North Dakota leads the nation in contact tracing capacity per capita, and is rated as the only state with adequate contact tracing capacity for the COVID-19 pandemic!\\n\\nRead more:https://www.npr.org/sections/health-shots/2020/04/28/846736937/we-asked-all-50-states-about-their-contact-tracing-capacity-heres-what-we-learne\\xa0…', 'If you watched #TheLastDance this week, you know Williston native and NBA Hall of Famer Phil Jackson won championships by perfecting the spacing in his offense. Well, YOU can win big by perfecting your spacing on defense against COVID-19! #InThisTogetherNDpic.twitter.com/40DhqmhC6m', 'The NDDoH & private labs are reporting 1,987 completed tests today for COVID-19 with 75 new positive cases, bringing the statewide total to 942. NDDoH reports 2 new deaths.\\n\\nState & private labs have reported 22,434 total tests & 21,492 negatives.\\n\\n350 ND patients are recovered.pic.twitter.com/8KcIKhCHum', 'To help protect yourself from COVID-19 when refilling prescriptions, the CDC recommends that you call-in prescriptions ahead of time and use drive-thru windows. You might also use curbside services, mail-order or delivery services.\\n\\nFind more info here: https://www.cdc.gov/coronavirus/2019-ncov/daily-life-coping/essential-goods-services.html#doctor\\xa0…pic.twitter.com/nI3to2UPVj']], ['https://www.youtube.com/channel/UC0KCh7fxTBftoWOg3kwG5RA', [\"Get Involved: Learn how to help with North Dakota's COVID-19 response\", 'Thank you for your commitment to helping your fellow North Dakotans during the COVID-19 pandemic. Be assured that Team ND is working as one to slow the spread of this virus. We are taking steps to help North Dakotans through this crisis, and the health of our family, community members, co-workers and health care practitioners is our top priority.', 'Get the latest information on COVID-19', 'The NDDoH\\xa0is closely monitoring developments around an outbreak caused by a novel (new) coronavirus first identified in Wuhan, Hubei Province, China.\\xa0The\\xa0first case in the United States\\xa0was announced on January 21, 2020.', 'The NDDoH & private labs are reporting 1,289 total completed tests today for COVID-19, with 49 new positive cases, bringing the statewide total to 991.\\n\\nState & private labs have conducted 23,723 total tests with 22,732 negative results.\\n\\n409 ND patients are considered recovered.pic.twitter.com/QrBU7x3vZd', 'Join our team and make a difference in your state and community by using your skills and expertise during this COVID-19 pandemic!\\n\\nThe North Dakota Workforce Coordination Center is working to immediately fill multiple positions.\\n\\nApply online now: http://health.nd.gov/covidjobs\\xa0pic.twitter.com/dpSTF1ULU9', 'DID YOU KNOW? According to a survey conducted by NPR, North Dakota leads the nation in contact tracing capacity per capita, and is rated as the only state with adequate contact tracing capacity for the COVID-19 pandemic!\\n\\nRead more:https://www.npr.org/sections/health-shots/2020/04/28/846736937/we-asked-all-50-states-about-their-contact-tracing-capacity-heres-what-we-learne\\xa0…', 'If you watched #TheLastDance this week, you know Williston native and NBA Hall of Famer Phil Jackson won championships by perfecting the spacing in his offense. Well, YOU can win big by perfecting your spacing on defense against COVID-19! #InThisTogetherNDpic.twitter.com/40DhqmhC6m', 'The NDDoH & private labs are reporting 1,987 completed tests today for COVID-19 with 75 new positive cases, bringing the statewide total to 942. NDDoH reports 2 new deaths.\\n\\nState & private labs have reported 22,434 total tests & 21,492 negatives.\\n\\n350 ND patients are recovered.pic.twitter.com/8KcIKhCHum', 'To help protect yourself from COVID-19 when refilling prescriptions, the CDC recommends that you call-in prescriptions ahead of time and use drive-thru windows. You might also use curbside services, mail-order or delivery services.\\n\\nFind more info here: https://www.cdc.gov/coronavirus/2019-ncov/daily-life-coping/essential-goods-services.html#doctor\\xa0…pic.twitter.com/nI3to2UPVj']]]\n",
      "[['https://www.youtube.com/channel/UC0KCh7fxTBftoWOg3kwG5RA', [\"Get Involved: Learn how to help with North Dakota's COVID-19 response\", 'Thank you for your commitment to helping your fellow North Dakotans during the COVID-19 pandemic. Be assured that Team ND is working as one to slow the spread of this virus. We are taking steps to help North Dakotans through this crisis, and the health of our family, community members, co-workers and health care practitioners is our top priority.', 'Get the latest information on COVID-19', 'The NDDoH\\xa0is closely monitoring developments around an outbreak caused by a novel (new) coronavirus first identified in Wuhan, Hubei Province, China.\\xa0The\\xa0first case in the United States\\xa0was announced on January 21, 2020.', 'The NDDoH & private labs are reporting 1,289 total completed tests today for COVID-19, with 49 new positive cases, bringing the statewide total to 991.\\n\\nState & private labs have conducted 23,723 total tests with 22,732 negative results.\\n\\n409 ND patients are considered recovered.pic.twitter.com/QrBU7x3vZd', 'Join our team and make a difference in your state and community by using your skills and expertise during this COVID-19 pandemic!\\n\\nThe North Dakota Workforce Coordination Center is working to immediately fill multiple positions.\\n\\nApply online now: http://health.nd.gov/covidjobs\\xa0pic.twitter.com/dpSTF1ULU9', 'DID YOU KNOW? According to a survey conducted by NPR, North Dakota leads the nation in contact tracing capacity per capita, and is rated as the only state with adequate contact tracing capacity for the COVID-19 pandemic!\\n\\nRead more:https://www.npr.org/sections/health-shots/2020/04/28/846736937/we-asked-all-50-states-about-their-contact-tracing-capacity-heres-what-we-learne\\xa0…', 'If you watched #TheLastDance this week, you know Williston native and NBA Hall of Famer Phil Jackson won championships by perfecting the spacing in his offense. Well, YOU can win big by perfecting your spacing on defense against COVID-19! #InThisTogetherNDpic.twitter.com/40DhqmhC6m', 'The NDDoH & private labs are reporting 1,987 completed tests today for COVID-19 with 75 new positive cases, bringing the statewide total to 942. NDDoH reports 2 new deaths.\\n\\nState & private labs have reported 22,434 total tests & 21,492 negatives.\\n\\n350 ND patients are recovered.pic.twitter.com/8KcIKhCHum', 'To help protect yourself from COVID-19 when refilling prescriptions, the CDC recommends that you call-in prescriptions ahead of time and use drive-thru windows. You might also use curbside services, mail-order or delivery services.\\n\\nFind more info here: https://www.cdc.gov/coronavirus/2019-ncov/daily-life-coping/essential-goods-services.html#doctor\\xa0…pic.twitter.com/nI3to2UPVj']], ['https://www.youtube.com/channel/UC0KCh7fxTBftoWOg3kwG5RA', [\"Get Involved: Learn how to help with North Dakota's COVID-19 response\", 'Thank you for your commitment to helping your fellow North Dakotans during the COVID-19 pandemic. Be assured that Team ND is working as one to slow the spread of this virus. We are taking steps to help North Dakotans through this crisis, and the health of our family, community members, co-workers and health care practitioners is our top priority.', 'Get the latest information on COVID-19', 'The NDDoH\\xa0is closely monitoring developments around an outbreak caused by a novel (new) coronavirus first identified in Wuhan, Hubei Province, China.\\xa0The\\xa0first case in the United States\\xa0was announced on January 21, 2020.', 'The NDDoH & private labs are reporting 1,289 total completed tests today for COVID-19, with 49 new positive cases, bringing the statewide total to 991.\\n\\nState & private labs have conducted 23,723 total tests with 22,732 negative results.\\n\\n409 ND patients are considered recovered.pic.twitter.com/QrBU7x3vZd', 'Join our team and make a difference in your state and community by using your skills and expertise during this COVID-19 pandemic!\\n\\nThe North Dakota Workforce Coordination Center is working to immediately fill multiple positions.\\n\\nApply online now: http://health.nd.gov/covidjobs\\xa0pic.twitter.com/dpSTF1ULU9', 'DID YOU KNOW? According to a survey conducted by NPR, North Dakota leads the nation in contact tracing capacity per capita, and is rated as the only state with adequate contact tracing capacity for the COVID-19 pandemic!\\n\\nRead more:https://www.npr.org/sections/health-shots/2020/04/28/846736937/we-asked-all-50-states-about-their-contact-tracing-capacity-heres-what-we-learne\\xa0…', 'If you watched #TheLastDance this week, you know Williston native and NBA Hall of Famer Phil Jackson won championships by perfecting the spacing in his offense. Well, YOU can win big by perfecting your spacing on defense against COVID-19! #InThisTogetherNDpic.twitter.com/40DhqmhC6m', 'The NDDoH & private labs are reporting 1,987 completed tests today for COVID-19 with 75 new positive cases, bringing the statewide total to 942. NDDoH reports 2 new deaths.\\n\\nState & private labs have reported 22,434 total tests & 21,492 negatives.\\n\\n350 ND patients are recovered.pic.twitter.com/8KcIKhCHum', 'To help protect yourself from COVID-19 when refilling prescriptions, the CDC recommends that you call-in prescriptions ahead of time and use drive-thru windows. You might also use curbside services, mail-order or delivery services.\\n\\nFind more info here: https://www.cdc.gov/coronavirus/2019-ncov/daily-life-coping/essential-goods-services.html#doctor\\xa0…pic.twitter.com/nI3to2UPVj']]]\n",
      "[['http://www.section508.gov/', [\"Get Involved: Learn how to help with North Dakota's COVID-19 response\", 'Thank you for your commitment to helping your fellow North Dakotans during the COVID-19 pandemic. Be assured that Team ND is working as one to slow the spread of this virus. We are taking steps to help North Dakotans through this crisis, and the health of our family, community members, co-workers and health care practitioners is our top priority.']]]\n",
      "[['https://www.nd.gov/transparency', [\"Get Involved: Learn how to help with North Dakota's COVID-19 response\", 'Thank you for your commitment to helping your fellow North Dakotans during the COVID-19 pandemic. Be assured that Team ND is working as one to slow the spread of this virus. We are taking steps to help North Dakotans through this crisis, and the health of our family, community members, co-workers and health care practitioners is our top priority.']]]\n",
      "[['https://www.ndtourism.com/', [\"Get Involved: Learn how to help with North Dakota's COVID-19 response\", 'Thank you for your commitment to helping your fellow North Dakotans during the COVID-19 pandemic. Be assured that Team ND is working as one to slow the spread of this virus. We are taking steps to help North Dakotans through this crisis, and the health of our family, community members, co-workers and health care practitioners is our top priority.', 'Aside from social distancing, the best way to help\\u202fyour community\\xa0during the COVID-19 pandemic is by\\xa0supporting community\\xa0response\\xa0and relief efforts with a donation.\\xa0We\\xa0know\\xa0#TeamND\\xa0is\\xa0eager to help, so we have included options on this page that specifically address\\xa0to assist during this crisis with monetary contributions or the donation of medical supplies\\xa0to support North Dakotans.\\xa0', 'Thank you for your generosity in contributing to\\xa0North Dakota’s\\xa0COVID-19 emergency response and economic relief efforts.\\xa0', 'Are you a Medical Laboratory Scientist (MLS), Medical Technologist (MT), Clinical Laboratory Scientist (CLS), or Medical Laboratory Technician (MLT)? We need you to join the hardworking and dedicated staff at\\xa0the State Microbiology Lab in response to COVID-19. Register with the WCC by clicking on the sign up button below and completing the online form. You will be contacted quickly to find out how you can join the fight.', 'You can help us\\xa0make a difference\\xa0during the COVID-19 pandemic.\\xa0The Workforce Coordination Center\\xa0is managing\\xa0a pool of potential workers and volunteers to help as\\xa0North Dakota business and emergency workforce needs change. Current or lapsed license or certifications are a bonus, but not necessary.\\xa0', 'North Dakota businesses that have new and challenging workforce gaps that are related to COVID-19\\xa0can sign up with WCC for assistance in filling critical positions.', 'Sign up for COVID-19 workforce help', 'Monetary donations can be made through the North Dakota COVID-19 Community and Nonprofit Response Fund.', \"Because the COVID-19 virus will likely impact every corner of the state, individuals and businesses that wish to provide assistance to nonprofit organizations or others are encouraged to\\u202fdonate directly to their own local entities - e.g. senior citizens center, soup kitchen, school system, hospital, etc.\\u202f If these entities aren't able to accept donations, if the donor wishes to make a larger impact statewide, or if the donor prefers a tax receipt for his/her gift, donations may be made to North Dakota Community Foundation's (NDCF)\\u202fCOVID-19 Community and Nonprofit Response Fund.\"]]]\n",
      "[['https://www.nd.gov/transparency', [\"Get Involved: Learn how to help with North Dakota's COVID-19 response\", 'Thank you for your commitment to helping your fellow North Dakotans during the COVID-19 pandemic. Be assured that Team ND is working as one to slow the spread of this virus. We are taking steps to help North Dakotans through this crisis, and the health of our family, community members, co-workers and health care practitioners is our top priority.']]]\n",
      "[]\n",
      "[['http://support.twitter.com/articles/14226-how-to-find-your-twitter-short-code-or-long-code', ['Get the latest information on COVID-19', 'The NDDoH\\xa0is closely monitoring developments around an outbreak caused by a novel (new) coronavirus first identified in Wuhan, Hubei Province, China.\\xa0The\\xa0first case in the United States\\xa0was announced on January 21, 2020.', 'The NDDoH & private labs are reporting 1,289 total completed tests today for COVID-19, with 49 new positive cases, bringing the statewide total to 991.\\n\\nState & private labs have conducted 23,723 total tests with 22,732 negative results.\\n\\n409 ND patients are considered recovered.pic.twitter.com/QrBU7x3vZd', 'Join our team and make a difference in your state and community by using your skills and expertise during this COVID-19 pandemic!\\n\\nThe North Dakota Workforce Coordination Center is working to immediately fill multiple positions.\\n\\nApply online now: http://health.nd.gov/covidjobs\\xa0pic.twitter.com/dpSTF1ULU9', '\\n                Malachi Stewart, with the Washington, D.C., health department, works full time as a contact tracer for the COVID-19 response. Washington plans to increase its contact tracing workforce in the near future.\\n                \\n                \\n                    \\n                    Ryan Kellman/NPR\\n                    \\n                \\nhide caption\\n', 'States are eager to open up and get people back to work, but how do they do that without risking new coronavirus flare-ups? Public health leaders widely agree that communities need to ramp up capacity to test, trace and isolate. The idea behind this public health mantra is simple: Keep the virus in check by having teams of public health workers — epidemiologists, nurses, trained citizens — identify new positive cases, track down their contacts and help both the sick person and those who were exposed isolate themselves.', \"The average rate of contact tracers among the states we had data from was 12 per 100,000 people — just shy of the estimated need during normal times and a third of what's projected to be needed during the coronavirus pandemic. The median was even fewer: about eight contact tracers per 100,000.\", 'A few states, including Minnesota, indicated they do not have current plans to hire more contact tracers. Andrea Ahneman, a spokesperson for the COVID-19 Response in Minnesota, wrote that the state had more than 100 staffers now and that \"this is plenty of capacity for current needs.\"', 'If you watched #TheLastDance this week, you know Williston native and NBA Hall of Famer Phil Jackson won championships by perfecting the spacing in his offense. Well, YOU can win big by perfecting your spacing on defense against COVID-19! #InThisTogetherNDpic.twitter.com/40DhqmhC6m', 'The NDDoH & private labs are reporting 1,987 completed tests today for COVID-19 with 75 new positive cases, bringing the statewide total to 942. NDDoH reports 2 new deaths.\\n\\nState & private labs have reported 22,434 total tests & 21,492 negatives.\\n\\n350 ND patients are recovered.pic.twitter.com/8KcIKhCHum']]]\n",
      "[]\n"
     ]
    }
   ],
   "source": [
    "# index 0, 1 2 of url_list[0]\n",
    "for i in range(len(url_list)):\n",
    "    print(url_list[i][2])"
   ]
  },
  {
   "cell_type": "code",
   "execution_count": null,
   "metadata": {},
   "outputs": [],
   "source": []
  },
  {
   "cell_type": "code",
   "execution_count": null,
   "metadata": {},
   "outputs": [],
   "source": []
  }
 ],
 "metadata": {
  "kernelspec": {
   "display_name": "Python 3",
   "language": "python",
   "name": "python3"
  },
  "language_info": {
   "codemirror_mode": {
    "name": "ipython",
    "version": 3
   },
   "file_extension": ".py",
   "mimetype": "text/x-python",
   "name": "python",
   "nbconvert_exporter": "python",
   "pygments_lexer": "ipython3",
   "version": "3.7.6"
  }
 },
 "nbformat": 4,
 "nbformat_minor": 4
}
